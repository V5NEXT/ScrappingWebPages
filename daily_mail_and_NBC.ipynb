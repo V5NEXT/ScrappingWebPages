{
  "nbformat": 4,
  "nbformat_minor": 0,
  "metadata": {
    "colab": {
      "name": "daily_mail and NBC.ipynb",
      "provenance": []
    },
    "kernelspec": {
      "name": "python3",
      "display_name": "Python 3"
    },
    "language_info": {
      "name": "python"
    }
  },
  "cells": [
    {
      "cell_type": "code",
      "metadata": {
        "id": "7jKzLAa-WoI2"
      },
      "source": [
        "#importing requests \n",
        "import requests\n",
        "#importing BeautifulSoup for scrapping templates\n",
        "from bs4 import BeautifulSoup\n",
        "import numpy as np\n",
        "import pandas as pd\n",
        "import re\n",
        "import time"
      ],
      "execution_count": 1,
      "outputs": []
    },
    {
      "cell_type": "code",
      "metadata": {
        "id": "-eNeXr2tW-Od"
      },
      "source": [
        "\n"
      ],
      "execution_count": 65,
      "outputs": []
    },
    {
      "cell_type": "code",
      "metadata": {
        "id": "jj_EzN7WXEUH"
      },
      "source": [
        "# Daily Mail\n",
        "url = \"https://www.dailymail.co.uk\"\n",
        "\n",
        "# Request\n",
        "r1 = requests.get(url)\n",
        "r1.status_code\n",
        "\n",
        "# We'll save in coverpage the cover page content\n",
        "coverpage = r1.content\n",
        "\n",
        "# Soup creation\n",
        "soup1 = BeautifulSoup(coverpage, 'html5lib')\n",
        "\n",
        "\n",
        "# News identification\n",
        "coverpage_news = soup1.find_all('h2', class_='linkro-darkred')\n",
        "dailymailylen = len(coverpage_news)"
      ],
      "execution_count": 2,
      "outputs": []
    },
    {
      "cell_type": "code",
      "metadata": {
        "colab": {
          "base_uri": "https://localhost:8080/"
        },
        "id": "x6qZjwQZ2S2V",
        "outputId": "536dfa25-f90e-458f-cb19-2c734cb65a81"
      },
      "source": [
        "#CNN\n",
        "\n",
        "#tried to access CNN but it didnt had enough news to follow on\n",
        "\n",
        "url = \"https://edition.cnn.com/\"\n",
        "# Request\n",
        "\n",
        "\n",
        "r1 = requests.get(url)\n",
        "r1.status_code\n",
        "\n",
        "# We'll save in coverpage the cover page content\n",
        "coverpage = r1.content\n",
        "from bs4 import BeautifulSoup as soup\n",
        "\n",
        "import requests\n",
        "\n",
        "from datetime import date\n",
        "today = date.today()\n",
        "d = today.strftime(\"%m-%d-%y\")\n",
        "cnn_url=\"https://edition.cnn.com/world\".format(d)\n",
        "html = requests.get(cnn_url)\n",
        "bsobj = soup(html.content,'lxml')\n",
        "for link in bsobj.findAll(\"h3\"):\n",
        "    print(\"Headline : {}\".format(link.text))\n",
        "\n"
      ],
      "execution_count": 19,
      "outputs": [
        {
          "output_type": "stream",
          "text": [
            "Headline : Why online supermarket Ocado wants to take the human touch out of groceries\n",
            "Headline : Walmart's latest strategy to get your stuff to you faster\n",
            "Headline : The man-made islands emerging from the sea\n",
            "Headline : This Martian city is being built in the desert outside Dubai\n",
            "Headline : The ancient art of henna gets a modern makeover\n",
            "Headline : South African artist blurs dreams and reality \n",
            "Headline : Cape Town photographer sheds new light on the city\n",
            "Headline : Sharks and seals, photographed up close\n",
            "Headline : Here are all the Easter Eggs from the new 'Space Jam' movie\n",
            "Headline : Richard Sherman apologizes for arrest\n",
            "Headline : NBA's play-in will be back next season\n",
            "Headline : New MLB rules helping or hurting baseball?\n",
            "Headline : Kevin Love leaves Team USA hoops\n",
            "Headline : Ohtani All-Star jersey getting bids of $100K+\n",
            "Headline : Can you refinance with $0 out of pocket?\n",
            "Headline : Refinance and have more cash each month\n",
            "Headline : Mortgage rates are forecasted to keep rising- ACT NOW\n",
            "Headline : Don't leave money on the table! Get a cashback card\n",
            "Headline : The brilliant way to pay off $10,000 in credit card debt\n",
            "Headline : 6 reasons we call this the best cash back card of 2021\n"
          ],
          "name": "stdout"
        }
      ]
    },
    {
      "cell_type": "code",
      "metadata": {
        "id": "vpMUB79ZuRJC"
      },
      "source": [
        "#NBC News scrapping, scrapped the following pages politics, coronavirus,world, business, podcasts, business and us-news\n",
        "from bs4 import BeautifulSoup as soup\n",
        "import requests\n",
        "\n",
        "\n",
        "nbc_url='https://www.nbcnews.com/politics'\n",
        "r = requests.get('https://www.nbcnews.com/politics')\n",
        "b = soup(r.content,'lxml')\n",
        "politics_news = []\n",
        "for news in b.findAll('div', {'class': 'wide-tease-item__description'}):\n",
        "  politics_news.append(news.text.strip())\n",
        "  df_politics = pd.DataFrame(\n",
        "     {'Article Content': politics_news \n",
        "  })\n",
        "\n",
        "\n",
        "nbc_url='https://www.nbcnews.com/health/coronavirus'\n",
        "r = requests.get('https://www.nbcnews.com/health/coronavirus')\n",
        "b = soup(r.content,'lxml')\n",
        "for news in b.findAll('div', {'class': 'wide-tease-item__description'}):\n",
        "  politics_news.append(news.text.strip())\n",
        "  df_politics = pd.DataFrame(\n",
        "     {'Article Content': politics_news \n",
        "  })\n",
        "\n",
        "\n",
        "nbc_url='https://www.nbcnews.com/world'\n",
        "r = requests.get('https://www.nbcnews.com/world')\n",
        "b = soup(r.content,'lxml')\n",
        "for news in b.findAll('div', {'class': 'wide-tease-item__description'}):\n",
        "  politics_news.append(news.text.strip())\n",
        "  df_politics = pd.DataFrame(\n",
        "     {'Article Content': politics_news \n",
        "  })\n",
        "\n",
        "\n",
        "nbc_url='https://www.nbcnews.com/business'\n",
        "r = requests.get('https://www.nbcnews.com/business')\n",
        "b = soup(r.content,'lxml')\n",
        "for news in b.findAll('div', {'class': 'wide-tease-item__description'}):\n",
        "  politics_news.append(news.text.strip())\n",
        "  df_politics = pd.DataFrame(\n",
        "     {'Article Content': politics_news \n",
        "  })\n",
        "\n",
        "\n",
        "nbc_url='https://www.nbcnews.com/podcasts'\n",
        "r = requests.get('https://www.nbcnews.com/podcasts')\n",
        "b = soup(r.content,'lxml')\n",
        "for news in b.findAll('div', {'class': 'text-summary'}):\n",
        "  politics_news.append(news.text.strip())\n",
        "  df_politics = pd.DataFrame(\n",
        "     {'Article Content': politics_news \n",
        "  })\n",
        "\n",
        "nbc_url='https://www.nbcnews.com/us-news'\n",
        "r = requests.get('https://www.nbcnews.com/us-news')\n",
        "b = soup(r.content,'lxml')\n",
        "for news in b.findAll('div', {'class': 'wide-tease-item__description'}):\n",
        "  politics_news.append(news.text.strip())\n",
        "  df_politics = pd.DataFrame(\n",
        "     {'Article Content': politics_news \n",
        "  })\n",
        "\n",
        "  "
      ],
      "execution_count": 9,
      "outputs": []
    },
    {
      "cell_type": "code",
      "metadata": {
        "id": "aLmnUFJD9VKX"
      },
      "source": [
        ""
      ],
      "execution_count": null,
      "outputs": []
    },
    {
      "cell_type": "code",
      "metadata": {
        "colab": {
          "base_uri": "https://localhost:8080/",
          "height": 17
        },
        "id": "FfkladsVzBbb",
        "outputId": "a1ca2f6e-00fe-440f-dc1b-0144b7ef8c11"
      },
      "source": [
        "df_politics\n",
        "\n",
        "#files used for downloading csv files\n",
        "from google.colab import files\n",
        "df_politics.to_csv('nbcnews.csv') \n",
        "files.download('nbcnews.csv')"
      ],
      "execution_count": 10,
      "outputs": [
        {
          "output_type": "display_data",
          "data": {
            "application/javascript": [
              "\n",
              "    async function download(id, filename, size) {\n",
              "      if (!google.colab.kernel.accessAllowed) {\n",
              "        return;\n",
              "      }\n",
              "      const div = document.createElement('div');\n",
              "      const label = document.createElement('label');\n",
              "      label.textContent = `Downloading \"${filename}\": `;\n",
              "      div.appendChild(label);\n",
              "      const progress = document.createElement('progress');\n",
              "      progress.max = size;\n",
              "      div.appendChild(progress);\n",
              "      document.body.appendChild(div);\n",
              "\n",
              "      const buffers = [];\n",
              "      let downloaded = 0;\n",
              "\n",
              "      const channel = await google.colab.kernel.comms.open(id);\n",
              "      // Send a message to notify the kernel that we're ready.\n",
              "      channel.send({})\n",
              "\n",
              "      for await (const message of channel.messages) {\n",
              "        // Send a message to notify the kernel that we're ready.\n",
              "        channel.send({})\n",
              "        if (message.buffers) {\n",
              "          for (const buffer of message.buffers) {\n",
              "            buffers.push(buffer);\n",
              "            downloaded += buffer.byteLength;\n",
              "            progress.value = downloaded;\n",
              "          }\n",
              "        }\n",
              "      }\n",
              "      const blob = new Blob(buffers, {type: 'application/binary'});\n",
              "      const a = document.createElement('a');\n",
              "      a.href = window.URL.createObjectURL(blob);\n",
              "      a.download = filename;\n",
              "      div.appendChild(a);\n",
              "      a.click();\n",
              "      div.remove();\n",
              "    }\n",
              "  "
            ],
            "text/plain": [
              "<IPython.core.display.Javascript object>"
            ]
          },
          "metadata": {
            "tags": []
          }
        },
        {
          "output_type": "display_data",
          "data": {
            "application/javascript": [
              "download(\"download_ce088fc8-1c85-4b6c-9e49-255aa0671624\", \"nbcnews.csv\", 13558)"
            ],
            "text/plain": [
              "<IPython.core.display.Javascript object>"
            ]
          },
          "metadata": {
            "tags": []
          }
        }
      ]
    },
    {
      "cell_type": "code",
      "metadata": {
        "id": "hAFnduFFXNui"
      },
      "source": [
        "#assigning \n",
        "number_of_articles = dailymailylen\n"
      ],
      "execution_count": 4,
      "outputs": []
    },
    {
      "cell_type": "code",
      "metadata": {
        "id": "uulvhw8RXOnr"
      },
      "source": [
        "# Empty lists for content, links and titles\n",
        "news_contents = []\n",
        "list_links = []\n",
        "list_titles = []\n",
        "\n",
        "for n in np.arange(0, number_of_articles):\n",
        "        \n",
        "    # Getting the link of the article\n",
        "    link = url + coverpage_news[n].find('a')['href']\n",
        "    list_links.append(link)\n",
        "    \n",
        "    # Getting the title\n",
        "    title = coverpage_news[n].find('a').get_text()\n",
        "    list_titles.append(title)\n",
        "    \n",
        "    # Reading the content (it is divided in paragraphs)\n",
        "    article = requests.get(link)\n",
        "    article_content = article.content\n",
        "    soup_article = BeautifulSoup(article_content, 'html5lib')\n",
        "    body = soup_article.find_all('p', class_='mol-para-with-font')\n",
        "    \n",
        "    # Unifying the paragraphs\n",
        "    list_paragraphs = []\n",
        "    for p in np.arange(0, len(body)):\n",
        "        paragraph = body[p].get_text()\n",
        "        list_paragraphs.append(paragraph)\n",
        "        final_article = \" \".join(list_paragraphs)\n",
        "        \n",
        "    # Removing special characters\n",
        "    final_article = re.sub(\"\\\\xa0\", \"\", final_article)\n",
        "        \n",
        "    news_contents.append(final_article)"
      ],
      "execution_count": 5,
      "outputs": []
    },
    {
      "cell_type": "code",
      "metadata": {
        "id": "JxVWiCs4XRYJ"
      },
      "source": [
        "# df_features\n",
        "df_features = pd.DataFrame(\n",
        "     {'Article Content': news_contents \n",
        "    })\n",
        "\n",
        "# df_show_info\n",
        "df_show_info = pd.DataFrame(\n",
        "    {'Article Title': list_titles,\n",
        "     'Article Link': list_links})"
      ],
      "execution_count": 6,
      "outputs": []
    },
    {
      "cell_type": "code",
      "metadata": {
        "colab": {
          "base_uri": "https://localhost:8080/",
          "height": 417
        },
        "id": "psyXOiy6Y1r-",
        "outputId": "316307cd-8857-4186-bd88-f6b0fe00eb2f"
      },
      "source": [
        "df_features\n",
        "\n"
      ],
      "execution_count": 7,
      "outputs": [
        {
          "output_type": "execute_result",
          "data": {
            "text/html": [
              "<div>\n",
              "<style scoped>\n",
              "    .dataframe tbody tr th:only-of-type {\n",
              "        vertical-align: middle;\n",
              "    }\n",
              "\n",
              "    .dataframe tbody tr th {\n",
              "        vertical-align: top;\n",
              "    }\n",
              "\n",
              "    .dataframe thead th {\n",
              "        text-align: right;\n",
              "    }\n",
              "</style>\n",
              "<table border=\"1\" class=\"dataframe\">\n",
              "  <thead>\n",
              "    <tr style=\"text-align: right;\">\n",
              "      <th></th>\n",
              "      <th>Article Content</th>\n",
              "    </tr>\n",
              "  </thead>\n",
              "  <tbody>\n",
              "    <tr>\n",
              "      <th>0</th>\n",
              "      <td>Celebrity dermatologist Dr. Alex Khadavi has b...</td>\n",
              "    </tr>\n",
              "    <tr>\n",
              "      <th>1</th>\n",
              "      <td>NFL teams have been warned they could forfeit ...</td>\n",
              "    </tr>\n",
              "    <tr>\n",
              "      <th>2</th>\n",
              "      <td>The former head of the U.S. Food and Drug Admi...</td>\n",
              "    </tr>\n",
              "    <tr>\n",
              "      <th>3</th>\n",
              "      <td>An attorney for the woman who accused former F...</td>\n",
              "    </tr>\n",
              "    <tr>\n",
              "      <th>4</th>\n",
              "      <td>White House press secretary Jen Psaki on Thurs...</td>\n",
              "    </tr>\n",
              "    <tr>\n",
              "      <th>...</th>\n",
              "      <td>...</td>\n",
              "    </tr>\n",
              "    <tr>\n",
              "      <th>132</th>\n",
              "      <td>A skydiver filmed the heart-stopping moment hi...</td>\n",
              "    </tr>\n",
              "    <tr>\n",
              "      <th>133</th>\n",
              "      <td>An adorable kangaroo named Abigail has been gr...</td>\n",
              "    </tr>\n",
              "    <tr>\n",
              "      <th>134</th>\n",
              "      <td>This is the hilarious moment a seagull smacked...</td>\n",
              "    </tr>\n",
              "    <tr>\n",
              "      <th>135</th>\n",
              "      <td>A woman who is now best friends with her ex's ...</td>\n",
              "    </tr>\n",
              "    <tr>\n",
              "      <th>136</th>\n",
              "      <td>More than a ton and a half of cocaine was seiz...</td>\n",
              "    </tr>\n",
              "  </tbody>\n",
              "</table>\n",
              "<p>137 rows × 1 columns</p>\n",
              "</div>"
            ],
            "text/plain": [
              "                                       Article Content\n",
              "0    Celebrity dermatologist Dr. Alex Khadavi has b...\n",
              "1    NFL teams have been warned they could forfeit ...\n",
              "2    The former head of the U.S. Food and Drug Admi...\n",
              "3    An attorney for the woman who accused former F...\n",
              "4    White House press secretary Jen Psaki on Thurs...\n",
              "..                                                 ...\n",
              "132  A skydiver filmed the heart-stopping moment hi...\n",
              "133  An adorable kangaroo named Abigail has been gr...\n",
              "134  This is the hilarious moment a seagull smacked...\n",
              "135  A woman who is now best friends with her ex's ...\n",
              "136  More than a ton and a half of cocaine was seiz...\n",
              "\n",
              "[137 rows x 1 columns]"
            ]
          },
          "metadata": {
            "tags": []
          },
          "execution_count": 7
        }
      ]
    },
    {
      "cell_type": "code",
      "metadata": {
        "colab": {
          "base_uri": "https://localhost:8080/",
          "height": 417
        },
        "id": "k-Ng7xBAal4r",
        "outputId": "650022e1-72a8-44e0-d3a1-0562d93fc0e2"
      },
      "source": [
        "df_show_info\n"
      ],
      "execution_count": 8,
      "outputs": [
        {
          "output_type": "execute_result",
          "data": {
            "text/html": [
              "<div>\n",
              "<style scoped>\n",
              "    .dataframe tbody tr th:only-of-type {\n",
              "        vertical-align: middle;\n",
              "    }\n",
              "\n",
              "    .dataframe tbody tr th {\n",
              "        vertical-align: top;\n",
              "    }\n",
              "\n",
              "    .dataframe thead th {\n",
              "        text-align: right;\n",
              "    }\n",
              "</style>\n",
              "<table border=\"1\" class=\"dataframe\">\n",
              "  <thead>\n",
              "    <tr style=\"text-align: right;\">\n",
              "      <th></th>\n",
              "      <th>Article Title</th>\n",
              "      <th>Article Link</th>\n",
              "    </tr>\n",
              "  </thead>\n",
              "  <tbody>\n",
              "    <tr>\n",
              "      <th>0</th>\n",
              "      <td>Furious NHS unions revolt at offer of three pe...</td>\n",
              "      <td>https://www.dailymail.co.uk/news/article-98105...</td>\n",
              "    </tr>\n",
              "    <tr>\n",
              "      <th>1</th>\n",
              "      <td>Police hunt rapist who attacked girl, 15, in t...</td>\n",
              "      <td>https://www.dailymail.co.uk/news/article-98113...</td>\n",
              "    </tr>\n",
              "    <tr>\n",
              "      <th>2</th>\n",
              "      <td>More than two thirds of the British public say...</td>\n",
              "      <td>https://www.dailymail.co.uk/news/article-98113...</td>\n",
              "    </tr>\n",
              "    <tr>\n",
              "      <th>3</th>\n",
              "      <td>'We will not renegotiate the protocol': Brusse...</td>\n",
              "      <td>https://www.dailymail.co.uk/news/article-98103...</td>\n",
              "    </tr>\n",
              "    <tr>\n",
              "      <th>4</th>\n",
              "      <td>Labour MP Apsana Begum, 31, 'conned council ou...</td>\n",
              "      <td>https://www.dailymail.co.uk/news/article-98109...</td>\n",
              "    </tr>\n",
              "    <tr>\n",
              "      <th>...</th>\n",
              "      <td>...</td>\n",
              "      <td>...</td>\n",
              "    </tr>\n",
              "    <tr>\n",
              "      <th>160</th>\n",
              "      <td>It's a dirty job! Cow is winched out of cesspi...</td>\n",
              "      <td>https://www.dailymail.co.uk/news/article-98106...</td>\n",
              "    </tr>\n",
              "    <tr>\n",
              "      <th>161</th>\n",
              "      <td>Ten adorable border collie puppies are born at...</td>\n",
              "      <td>https://www.dailymail.co.uk/news/article-98112...</td>\n",
              "    </tr>\n",
              "    <tr>\n",
              "      <th>162</th>\n",
              "      <td>Live like a king (on a budget!) Two-bedroom fl...</td>\n",
              "      <td>https://www.dailymail.co.uk/property/article-9...</td>\n",
              "    </tr>\n",
              "    <tr>\n",
              "      <th>163</th>\n",
              "      <td>Tomb of the 'Cursed Soldiers': Skeletal remain...</td>\n",
              "      <td>https://www.dailymail.co.uk/news/article-98032...</td>\n",
              "    </tr>\n",
              "    <tr>\n",
              "      <th>164</th>\n",
              "      <td>Hilarious moment barbecuing neighbour has to '...</td>\n",
              "      <td>https://www.dailymail.co.uk/news/article-98098...</td>\n",
              "    </tr>\n",
              "  </tbody>\n",
              "</table>\n",
              "<p>165 rows × 2 columns</p>\n",
              "</div>"
            ],
            "text/plain": [
              "                                         Article Title                                       Article Link\n",
              "0    Furious NHS unions revolt at offer of three pe...  https://www.dailymail.co.uk/news/article-98105...\n",
              "1    Police hunt rapist who attacked girl, 15, in t...  https://www.dailymail.co.uk/news/article-98113...\n",
              "2    More than two thirds of the British public say...  https://www.dailymail.co.uk/news/article-98113...\n",
              "3    'We will not renegotiate the protocol': Brusse...  https://www.dailymail.co.uk/news/article-98103...\n",
              "4    Labour MP Apsana Begum, 31, 'conned council ou...  https://www.dailymail.co.uk/news/article-98109...\n",
              "..                                                 ...                                                ...\n",
              "160  It's a dirty job! Cow is winched out of cesspi...  https://www.dailymail.co.uk/news/article-98106...\n",
              "161  Ten adorable border collie puppies are born at...  https://www.dailymail.co.uk/news/article-98112...\n",
              "162  Live like a king (on a budget!) Two-bedroom fl...  https://www.dailymail.co.uk/property/article-9...\n",
              "163  Tomb of the 'Cursed Soldiers': Skeletal remain...  https://www.dailymail.co.uk/news/article-98032...\n",
              "164  Hilarious moment barbecuing neighbour has to '...  https://www.dailymail.co.uk/news/article-98098...\n",
              "\n",
              "[165 rows x 2 columns]"
            ]
          },
          "metadata": {
            "tags": []
          },
          "execution_count": 8
        }
      ]
    },
    {
      "cell_type": "code",
      "metadata": {
        "colab": {
          "base_uri": "https://localhost:8080/",
          "height": 17
        },
        "id": "im0TkTkTKW9e",
        "outputId": "8c57b907-a701-455e-a3d6-0352f458f942"
      },
      "source": [
        "from google.colab import files\n",
        "df_features.to_csv('filename.csv') \n",
        "files.download('filename.csv')\n"
      ],
      "execution_count": 8,
      "outputs": [
        {
          "output_type": "display_data",
          "data": {
            "application/javascript": [
              "\n",
              "    async function download(id, filename, size) {\n",
              "      if (!google.colab.kernel.accessAllowed) {\n",
              "        return;\n",
              "      }\n",
              "      const div = document.createElement('div');\n",
              "      const label = document.createElement('label');\n",
              "      label.textContent = `Downloading \"${filename}\": `;\n",
              "      div.appendChild(label);\n",
              "      const progress = document.createElement('progress');\n",
              "      progress.max = size;\n",
              "      div.appendChild(progress);\n",
              "      document.body.appendChild(div);\n",
              "\n",
              "      const buffers = [];\n",
              "      let downloaded = 0;\n",
              "\n",
              "      const channel = await google.colab.kernel.comms.open(id);\n",
              "      // Send a message to notify the kernel that we're ready.\n",
              "      channel.send({})\n",
              "\n",
              "      for await (const message of channel.messages) {\n",
              "        // Send a message to notify the kernel that we're ready.\n",
              "        channel.send({})\n",
              "        if (message.buffers) {\n",
              "          for (const buffer of message.buffers) {\n",
              "            buffers.push(buffer);\n",
              "            downloaded += buffer.byteLength;\n",
              "            progress.value = downloaded;\n",
              "          }\n",
              "        }\n",
              "      }\n",
              "      const blob = new Blob(buffers, {type: 'application/binary'});\n",
              "      const a = document.createElement('a');\n",
              "      a.href = window.URL.createObjectURL(blob);\n",
              "      a.download = filename;\n",
              "      div.appendChild(a);\n",
              "      a.click();\n",
              "      div.remove();\n",
              "    }\n",
              "  "
            ],
            "text/plain": [
              "<IPython.core.display.Javascript object>"
            ]
          },
          "metadata": {
            "tags": []
          }
        },
        {
          "output_type": "display_data",
          "data": {
            "application/javascript": [
              "download(\"download_2fe224a5-d4f5-44bc-b1eb-027036fb695f\", \"filename.csv\", 721646)"
            ],
            "text/plain": [
              "<IPython.core.display.Javascript object>"
            ]
          },
          "metadata": {
            "tags": []
          }
        }
      ]
    }
  ]
}